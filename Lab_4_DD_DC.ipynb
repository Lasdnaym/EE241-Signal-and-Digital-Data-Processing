{
 "cells": [
  {
   "cell_type": "markdown",
   "id": "c15dd830",
   "metadata": {},
   "source": [
    "# Lab 4 Report"
   ]
  },
  {
   "cell_type": "markdown",
   "id": "0b76e12f",
   "metadata": {},
   "source": [
    "## Group Members: Diego C.\n",
    "## Group Name for Leaderboard: Dieglan"
   ]
  },
  {
   "cell_type": "code",
   "execution_count": 39,
   "id": "4d45e0cd",
   "metadata": {},
   "outputs": [],
   "source": [
    "import numpy as np\n",
    "import pandas as pd\n",
    "import matplotlib.pyplot as plt\n",
    "%matplotlib inline\n",
    "import scipy\n",
    "import scipy.stats as st"
   ]
  },
  {
   "cell_type": "markdown",
   "id": "f900d0d0",
   "metadata": {},
   "source": [
    "### Exercise 1: Construct Dictionaries from Data"
   ]
  },
  {
   "cell_type": "markdown",
   "id": "87db7d24",
   "metadata": {},
   "source": [
    "<img src=\"lab4_exercise1.png\" width=\"1000\">"
   ]
  },
  {
   "cell_type": "code",
   "execution_count": 12,
   "id": "0f1a2e57",
   "metadata": {},
   "outputs": [],
   "source": [
    "def convert_csv_to_dict(file_path):\n",
    "    # Read the csv\n",
    "    file = pd.read_csv(file_path)\n",
    "    # Make the data into an array\n",
    "    file_arr = file.to_numpy()\n",
    "    # Initialize a dict\n",
    "    dict_object = {}\n",
    "    # Make a key for all the columns and assign respective values to it at the same time\n",
    "    for i in range(0, len(file.columns)): \n",
    "        dict_object[file.columns[i]] = file_arr[:, i]\n",
    "    return dict_object"
   ]
  },
  {
   "cell_type": "code",
   "execution_count": 13,
   "id": "4b92b859",
   "metadata": {},
   "outputs": [],
   "source": [
    "TSLA_dict = convert_csv_to_dict('TSLA.csv')"
   ]
  },
  {
   "cell_type": "code",
   "execution_count": 14,
   "id": "bf7b05fa",
   "metadata": {},
   "outputs": [
    {
     "name": "stdout",
     "output_type": "stream",
     "text": [
      "[19.0 25.790001 25.0 23.0 20.0 16.4 16.139999 17.58 17.950001 17.389999]\n",
      "[17.540001 23.299999 20.27 18.709999 15.83 14.98 15.57 16.549999 17.0 16.9]\n"
     ]
    }
   ],
   "source": [
    "# Navigate to keys corresponding to 2nd and 4th columns (Open and Low prices) of TSLA.csv, \n",
    "# Print first 10 elements of each key.\n",
    "\n",
    "TSLA_column2 = \"Open\"\n",
    "TSLA_column4 = \"Low\"\n",
    "print(TSLA_dict[TSLA_column2][:10])\n",
    "print(TSLA_dict[TSLA_column4][:10])"
   ]
  },
  {
   "cell_type": "code",
   "execution_count": 15,
   "id": "e943cb82",
   "metadata": {},
   "outputs": [],
   "source": [
    "diabetes_dict = convert_csv_to_dict('diabetes.csv')"
   ]
  },
  {
   "cell_type": "code",
   "execution_count": 16,
   "id": "3ad77d50",
   "metadata": {},
   "outputs": [
    {
     "name": "stdout",
     "output_type": "stream",
     "text": [
      "[148.  85. 183.  89. 137. 116.  78. 115. 197. 125.]\n",
      "[35. 29.  0. 23. 35.  0. 32.  0. 45.  0.]\n"
     ]
    }
   ],
   "source": [
    "# Navigate to keys corresponding to 2nd and 4th columns (Glucose and SkinThickness) of diabetes.csv, \n",
    "# Print first 10 elements of each key.\n",
    "\n",
    "diabetes_column2 = \"Glucose\"\n",
    "diabetes_column4 = \"SkinThickness\"\n",
    "print(diabetes_dict[diabetes_column2][:10])\n",
    "print(diabetes_dict[diabetes_column4][:10])"
   ]
  },
  {
   "cell_type": "markdown",
   "id": "5eb0da37",
   "metadata": {},
   "source": [
    "### Exercise 2: Bar graph with confidence intervals"
   ]
  },
  {
   "cell_type": "markdown",
   "id": "c15dd5f4",
   "metadata": {},
   "source": [
    "<img src=\"lab4_exercise2.png\" width=\"1000\">"
   ]
  },
  {
   "cell_type": "code",
   "execution_count": 17,
   "id": "dfda82e0",
   "metadata": {},
   "outputs": [],
   "source": [
    "# Load diabetes.csv \n",
    "# Split the data into diabetic and non-diabetic\n",
    "\n",
    "# Read the csv\n",
    "diabetes = pd.read_csv('diabetes.csv')\n",
    "# Turn the csv into an array to parse through\n",
    "diabetes_arr = diabetes.to_numpy()\n",
    "# Initialize an array to store values\n",
    "yes_diabetes = [0] * 9\n",
    "no_diabetes = [0] * 9\n",
    "for i in range(0, len(diabetes_arr)):\n",
    "    # Minus one because else with exceed the length since arrays start from index of 0\n",
    "    if diabetes_arr[i, len(diabetes_arr[0]) - 1] == 1:\n",
    "        # If diabetes is positive then move the row of data into a different array\n",
    "        yes_diabetes = np.vstack([yes_diabetes, diabetes_arr[i, :]])\n",
    "        # Delete the data from the old array so we can effectively split the data\n",
    "    else:\n",
    "        no_diabetes = np.vstack([no_diabetes, diabetes_arr[i, :]])\n",
    "# Remove the row of zeroes used to initialize array\n",
    "yes_diabetes = np.delete(yes_diabetes, 0, 0)\n",
    "no_diabetes = np.delete(no_diabetes, 0, 0)"
   ]
  },
  {
   "cell_type": "code",
   "execution_count": 18,
   "id": "38c0873e",
   "metadata": {},
   "outputs": [],
   "source": [
    "# Extract glucose, blood pressure, and BMI metrics from diabetic and non-diabetic\n",
    "\n",
    "# non-diabetic metrics\n",
    "non_diabetic_glucose = no_diabetes[:, 1]\n",
    "non_diabetic_bp = no_diabetes[:, 2]\n",
    "non_diabetic_bmi = no_diabetes[:, 5]\n",
    "\n",
    "# diabetic metrics\n",
    "diabetic_glucose = yes_diabetes[:, 1]\n",
    "diabetic_bp = yes_diabetes[:, 2]\n",
    "diabetic_bmi = yes_diabetes[:, 5]\n",
    "\n",
    "non_diabetic_list = [non_diabetic_glucose, non_diabetic_bp, non_diabetic_bmi]\n",
    "diabetic_list = [diabetic_glucose, diabetic_bp, diabetic_bmi]\n",
    "\n",
    "non_diabetic_bar_labels = ['non_diabetic_glucose', 'non_diabetic_bp', 'non_diabetic_bmi']\n",
    "diabetic_bar_labels = ['diabetic_glucose', 'diabetic_bp', 'diabetic_bmi']"
   ]
  },
  {
   "cell_type": "code",
   "execution_count": 22,
   "id": "14e87c48",
   "metadata": {},
   "outputs": [],
   "source": [
    "def mean_confidence_interval(data, confidence):\n",
    "    # Number of samples in the data\n",
    "    n = len(data)\n",
    "    # Mean and standard error mean of data\n",
    "    m, se = np.mean(data), scipy.stats.sem(data)\n",
    "    # Find the error we need to subtract or add to the mean to find the bounds of the confidence interval\n",
    "    # The two arguments given to t.ppf are q and df\n",
    "    # Actually takes 4 arguments, also takes loc and scale (q works with these 2) but if undeclared, default to 0 and 1\n",
    "    # df: degrees of freedom (usually just number of samples - 1) - numbers of values in final calculation that are free to vary\n",
    "    # q: there is probability q of getting outcomes less than or equal to x from a T distribution (bell distribution but heavier tails)\n",
    "    # To get a 95% margin of error, you want 5% of the probability to be in the tails of the distribution. \n",
    "    # This is usually done symmetrically so that 2.5% is in each tail, so you would use q values of 0.025 and 0.975\n",
    "    # t.ppf aka quantile function specifies the value of the random variable such that the probability of the variable being less than or\n",
    "    # equal to that value equals the given probability\n",
    "    err = se * scipy.stats.t.ppf((1 + confidence) / 2., n-1)\n",
    "    return m, err\n",
    "\n",
    "\n",
    "def produce_bargraph_CI(data_vec_list, conf_level, bar_labels):\n",
    "    # Each data list has 3 arrays, one for each bar on the bar graph. We will need to get the mean (m0) and the error (err)\n",
    "    m0, err0 = mean_confidence_interval(data_vec_list[0], conf_level)\n",
    "    m1, err1 = mean_confidence_interval(data_vec_list[1], conf_level)\n",
    "    m2, err2 = mean_confidence_interval(data_vec_list[2], conf_level)\n",
    "    # Put the means into a list\n",
    "    means = [m0, m1, m2]\n",
    "    # Put the errors into a list\n",
    "    errors = [err0, err1, err2]\n",
    "    # List of positions for bar graph plotting\n",
    "    pos = [0, 1, 2]\n",
    "    # Make the bars\n",
    "    plt.bar(pos, means, color = 'blue', yerr = errors, width = 0.5, align = 'center', ecolor = 'grey', capsize = 30)\n",
    "    # Assign the labels\n",
    "    if data_vec_list == non_diabetic_list:\n",
    "        plt.title('Non Diabetic Data Averages with CI')\n",
    "    else:\n",
    "        plt.title('Diabetic data Averages with CI')\n",
    "    plt.xticks(pos, bar_labels)\n",
    "    plt.show()"
   ]
  },
  {
   "cell_type": "code",
   "execution_count": 23,
   "id": "cccb2595",
   "metadata": {},
   "outputs": [
    {
     "data": {
      "image/png": "[encoded data removed]",
      "text/plain": [
       "<Figure size 432x288 with 1 Axes>"
      ]
     },
     "metadata": {
      "needs_background": "light"
     },
     "output_type": "display_data"
    }
   ],
   "source": [
    "produce_bargraph_CI(data_vec_list = non_diabetic_list, conf_level = 0.99, bar_labels = non_diabetic_bar_labels)"
   ]
  },
  {
   "cell_type": "code",
   "execution_count": 24,
   "id": "4452891f",
   "metadata": {},
   "outputs": [
    {
     "name": "stderr",
     "output_type": "stream",
     "text": [
      "<ipython-input-22-b0877b37fad8>:24: DeprecationWarning: elementwise comparison failed; this will raise an error in the future.\n",
      "  if data_vec_list == non_diabetic_list:\n"
     ]
    },
    {
     "data": {
      "image/png": "[encoded data removed]",
      "text/plain": [
       "<Figure size 432x288 with 1 Axes>"
      ]
     },
     "metadata": {
      "needs_background": "light"
     },
     "output_type": "display_data"
    }
   ],
   "source": [
    "produce_bargraph_CI(data_vec_list = diabetic_list, conf_level = 0.95, bar_labels = diabetic_bar_labels)"
   ]
  },
  {
   "cell_type": "markdown",
   "id": "58bb0604",
   "metadata": {},
   "source": [
    "### Exercise 3: Rolling Mean/Median Function from Scratch"
   ]
  },
  {
   "cell_type": "markdown",
   "id": "f7a0620a",
   "metadata": {},
   "source": [
    "<img src=\"lab4_exercise3.png\" width=\"1000\">"
   ]
  },
  {
   "cell_type": "code",
   "execution_count": 14,
   "id": "21b82271",
   "metadata": {},
   "outputs": [],
   "source": [
    "# Load stock datasets\n",
    "\n",
    "tesla = pd.read_csv('TSLA.csv') \n",
    "tesla_np = tesla.to_numpy()\n",
    "\n",
    "google = pd.read_csv('GOOGL.csv')\n",
    "google_np = google.to_numpy()\n",
    "\n",
    "dji = pd.read_csv('DJI.csv') \n",
    "dji_np = dji.to_numpy()"
   ]
  },
  {
   "cell_type": "code",
   "execution_count": 15,
   "id": "9c6146a0",
   "metadata": {},
   "outputs": [],
   "source": [
    "# Extract closing price for each stock data\n",
    "\n",
    "tesla_np_closing = tesla_np[:, 4]\n",
    "google_np_closing = google_np[:, 4]\n",
    "DJI_np_closing = dji_np[:, 4]"
   ]
  },
  {
   "cell_type": "code",
   "execution_count": 36,
   "id": "da865892",
   "metadata": {},
   "outputs": [],
   "source": [
    "def rolling_window(data, window_size):\n",
    "    shape = data.shape[:-1] + (data.shape[-1] - window_size + 1, window_size)\n",
    "    strides = data.strides + (data.strides[-1],)\n",
    "    return np.lib.stride_tricks.as_strided(data, shape=shape, strides=strides)\n",
    "\n",
    "def smooth_data(data_arr, smooth_type, window_size):\n",
    "    if smooth_type == 'median':\n",
    "        sub_data = rolling_window(data_arr, window_size)\n",
    "        smoothed_data_arr = np.median(sub_data,axis=1)\n",
    "    else:\n",
    "        smoothed_data_arr = [0] * (len(data_arr) - window_size + 1)\n",
    "        for i in range(0, len(smoothed_data_arr)):\n",
    "            # Find the median of the data, round to one decimal place if needed and put the data into the average array\n",
    "            smoothed_data_arr[i] = round(np.average(data_arr[i:i + window_size]), 1)\n",
    "    return smoothed_data_arr"
   ]
  },
  {
   "cell_type": "code",
   "execution_count": 37,
   "id": "ae1e8a2b",
   "metadata": {},
   "outputs": [],
   "source": [
    "# Tesla closing prices, smooth_type = 'mean', window_size = 100\n",
    "# Note your smoothed data will be shorter than the original\n",
    "\n",
    "smoothed_tsla_closing  = smooth_data(tesla_np_closing, smooth_type = 'mean', window_size = 100)"
   ]
  },
  {
   "cell_type": "code",
   "execution_count": 38,
   "id": "61a6ba44",
   "metadata": {},
   "outputs": [
    {
     "data": {
      "image/png": "[encoded data removed]",
      "text/plain": [
       "<Figure size 432x288 with 1 Axes>"
      ]
     },
     "metadata": {
      "needs_background": "light"
     },
     "output_type": "display_data"
    }
   ],
   "source": [
    "# plot smoothed_tsla_closing on top of tesla_np_closing\n",
    "\n",
    "# Plot to see differences\n",
    "fig, ax1 = plt.subplots()\n",
    "plt.title('Smoothed vs Original')\n",
    "plt.xlabel('n')\n",
    "plt.ylabel('Close data')\n",
    "ax1.plot(tesla_np_closing, linewidth = 5)\n",
    "ax1.plot(smoothed_tsla_closing, linewidth = 5, linestyle = '--')\n",
    "plt.show()"
   ]
  },
  {
   "cell_type": "code",
   "execution_count": 25,
   "id": "29535d23",
   "metadata": {},
   "outputs": [],
   "source": [
    "# Google closing prices, smooth_type = 'median', window_size = 150\n",
    "# Note your smoothed data will be shorter than the original\n",
    "\n",
    "smoothed_google_closing  = smooth_data(google_np_closing, smooth_type = 'median', window_size = 150)"
   ]
  },
  {
   "cell_type": "code",
   "execution_count": 28,
   "id": "f0d4ced3",
   "metadata": {},
   "outputs": [
    {
     "data": {
      "image/png": "[encoded data removed]",
      "text/plain": [
       "<Figure size 432x288 with 1 Axes>"
      ]
     },
     "metadata": {
      "needs_background": "light"
     },
     "output_type": "display_data"
    }
   ],
   "source": [
    "# plot smoothed_google_closing on top of google_np_closing\n",
    "\n",
    "# Plot to see differences\n",
    "fig, ax1 = plt.subplots()\n",
    "plt.title('Smoothed vs Original')\n",
    "plt.xlabel('n')\n",
    "plt.ylabel('Close data')\n",
    "ax1.plot(google_np_closing, linewidth = 5)\n",
    "ax1.plot(smoothed_google_closing, linewidth = 5, linestyle = '--')\n",
    "plt.show()"
   ]
  },
  {
   "cell_type": "code",
   "execution_count": 32,
   "id": "ec2b672b",
   "metadata": {},
   "outputs": [],
   "source": [
    "# Dow Jones Index closing prices, smooth_type = 'mean', window_size = 200\n",
    "# Note your smoothed data will be shorter than the original\n",
    "\n",
    "smoothed_dji_closing  = smooth_data(DJI_np_closing, smooth_type = 'mean', window_size = 200)"
   ]
  },
  {
   "cell_type": "code",
   "execution_count": 33,
   "id": "beb96963",
   "metadata": {},
   "outputs": [
    {
     "data": {
      "image/png": "[encoded data removed]",
      "text/plain": [
       "<Figure size 432x288 with 1 Axes>"
      ]
     },
     "metadata": {
      "needs_background": "light"
     },
     "output_type": "display_data"
    }
   ],
   "source": [
    "# plot smoothed_dji_closing on top of dji_np_closing\n",
    "\n",
    "# Plot to see differences\n",
    "fig, ax1 = plt.subplots()\n",
    "plt.title('Smoothed vs Original')\n",
    "plt.xlabel('n')\n",
    "plt.ylabel('Close data')\n",
    "ax1.plot(DJI_np_closing, linewidth = 5)\n",
    "ax1.plot(smoothed_dji_closing, linewidth = 5, linestyle = '--')\n",
    "plt.show()"
   ]
  },
  {
   "cell_type": "markdown",
   "id": "00c5e941",
   "metadata": {},
   "source": [
    "## Extra credit: Code efficiency\n",
    "### Achieve a runtime speed of < 50ms"
   ]
  },
  {
   "cell_type": "code",
   "execution_count": 30,
   "id": "9a2e58cd",
   "metadata": {},
   "outputs": [
    {
     "name": "stdout",
     "output_type": "stream",
     "text": [
      "183 ms ± 6.59 ms per loop (mean ± std. dev. of 7 runs, 1 loop each)\n"
     ]
    }
   ],
   "source": [
    "timeit -n 1 -r 7 smoothed_google_closing  = smooth_data(google_np_closing, smooth_type = 'median', window_size = 150)"
   ]
  },
  {
   "cell_type": "markdown",
   "id": "0e1317ff",
   "metadata": {},
   "source": [
    "### Exercise 4: Ranking Daily Stock Surges/Crashes"
   ]
  },
  {
   "cell_type": "markdown",
   "id": "a744515b",
   "metadata": {},
   "source": [
    "<img src=\"lab4_exercise4.png\" width=\"1000\">"
   ]
  },
  {
   "cell_type": "code",
   "execution_count": 73,
   "id": "1e42ebb9",
   "metadata": {},
   "outputs": [],
   "source": [
    "def detect_surge_crash(filepath, detect_type, num_output_dates):\n",
    "    \n",
    "#files turn into an easy to parse dictionary\n",
    "    surge_dict = convert_csv_to_dict(filepath)\n",
    "#gets change in price, end-start\n",
    "    price_change = surge_dict['Close'] - surge_dict['Open']\n",
    "#the sign of price_change is determined by detect_type. Because a crash is negative, multiplying by negative would \n",
    "#turn a crash to a sruge\n",
    "    sign = -1 if detect_type == 'crash' else 1\n",
    "    price_change *= sign\n",
    "# argspartition only needs the large value indices only, so it only finds those\n",
    "    indices = np.argpartition(price_change, -num_output_dates)[-num_output_dates:][::-1]\n",
    "#price_change is multiplied by sign to turn crashes back to their original form(crash)\n",
    "    price_change *= sign\n",
    "    \n",
    "#creates a list for dates and the price changes for the days \n",
    "    date_list = surge_dict['Date'][indices]\n",
    "    price_change_list = price_change[indices]\n",
    "    \n",
    "    return date_list, price_change_list"
   ]
  },
  {
   "cell_type": "code",
   "execution_count": 74,
   "id": "84d8ff18",
   "metadata": {},
   "outputs": [],
   "source": [
    "date_list_t, price_change_list_t = detect_surge_crash(filepath = 'TSLA.csv', detect_type = 'surge', num_output_dates = 5)"
   ]
  },
  {
   "cell_type": "code",
   "execution_count": 75,
   "id": "063e2f19",
   "metadata": {},
   "outputs": [
    {
     "name": "stdout",
     "output_type": "stream",
     "text": [
      "['2018-08-07' '2018-04-04' '2018-10-23' '2018-12-26' '2018-10-26'] [35.73001099999999 34.16000299999999 30.270019999999988 26.089995999999985\n",
      " 22.649993999999992]\n"
     ]
    }
   ],
   "source": [
    "print(date_list_t, price_change_list_t)"
   ]
  },
  {
   "cell_type": "code",
   "execution_count": 76,
   "id": "6a3b62f7",
   "metadata": {},
   "outputs": [],
   "source": [
    "date_list_g, price_change_list_g = detect_surge_crash(filepath = 'GOOGL.csv', detect_type = 'crash', num_output_dates = 7)"
   ]
  },
  {
   "cell_type": "code",
   "execution_count": 77,
   "id": "fbdf3f42",
   "metadata": {},
   "outputs": [
    {
     "name": "stdout",
     "output_type": "stream",
     "text": [
      "['2018-10-29' '2018-10-24' '2018-03-27' '2018-02-08' '2018-12-04'\n",
      " '2018-10-10' '2018-12-21'] [-61.81005899999991 -57.88000499999998 -56.96002199999998\n",
      " -52.159973000000036 -50.52001900000005 -44.239990000000034\n",
      " -40.79003899999998]\n"
     ]
    }
   ],
   "source": [
    "print(date_list_g, price_change_list_g)"
   ]
  },
  {
   "cell_type": "markdown",
   "id": "9dc480d9",
   "metadata": {},
   "source": [
    "## Extra credit: Code efficiency\n",
    "### Achieve a runtime speed of < 10ms"
   ]
  },
  {
   "cell_type": "code",
   "execution_count": null,
   "id": "94179472",
   "metadata": {},
   "outputs": [],
   "source": [
    "timeit -n 1 -r 7 date_list_t, price_change_list_t = detect_surge_crash(filepath = 'TSLA.csv', detect_type = 'surge', num_output_dates = 5)"
   ]
  },
  {
   "cell_type": "markdown",
   "id": "5605702f",
   "metadata": {},
   "source": [
    "### Exercise 5: Human Debugger"
   ]
  },
  {
   "cell_type": "markdown",
   "id": "d5387df5",
   "metadata": {},
   "source": [
    "<img src=\"lab4_exercise5.png\" width=\"1200\">"
   ]
  },
  {
   "cell_type": "markdown",
   "id": "61790f59",
   "metadata": {},
   "source": [
    "### Faulty function #1 "
   ]
  },
  {
   "cell_type": "code",
   "execution_count": 40,
   "id": "7d54fe90",
   "metadata": {},
   "outputs": [],
   "source": [
    "def average_data_per_col(arr_2d):\n",
    "    \n",
    "    # NOTE FROM YOUR FRIEND PREPARING FOR STARBUCKS SOFTWARE ENGINEER TECH INTERVIEW \n",
    "    \"\"\"  The function takes numpy 2d array as an input, computes mean for each column data, and outputs 1D array \n",
    "         with the length equal to the # of columns.\n",
    "         \n",
    "         For some reason I keep getting errors.... I need your help to debug the code.\n",
    "         I need this position so I can get free ice lattes... :(\n",
    "    \n",
    "    \"\"\"\n",
    "    \n",
    "    # placeholder for averaged values\n",
    "    averaged_data = ()\n",
    "    \n",
    "    # Loop through each column data to compute mean and append to averaged_data \n",
    "    for k in range(len(arr_2d[:, 0])):\n",
    "        \n",
    "        #averaged_column_data = np.mean(arr_2d[:, k])\n",
    "        averaged_data.append(averaged_column_data)\n",
    "        \n",
    "    # Return numpy array form of the averaged_data\n",
    "    return np.array(averaged_data)"
   ]
  },
  {
   "cell_type": "code",
   "execution_count": 41,
   "id": "8f4ddb85",
   "metadata": {},
   "outputs": [],
   "source": [
    "# Load diabetes.csv and convert to numpy array\n",
    "\n",
    "diabetes = pd.read_csv('diabetes.csv')\n",
    "diabetes_np = diabetes.to_numpy()"
   ]
  },
  {
   "cell_type": "code",
   "execution_count": 42,
   "id": "bb0769db",
   "metadata": {},
   "outputs": [
    {
     "ename": "AttributeError",
     "evalue": "'tuple' object has no attribute 'append'",
     "output_type": "error",
     "traceback": [
      "\u001b[1;31m---------------------------------------------------------------------------\u001b[0m",
      "\u001b[1;31mAttributeError\u001b[0m                            Traceback (most recent call last)",
      "\u001b[1;32m<ipython-input-42-b465bb45759f>\u001b[0m in \u001b[0;36m<module>\u001b[1;34m\u001b[0m\n\u001b[0;32m      1\u001b[0m \u001b[1;31m# Run faulty function 1\u001b[0m\u001b[1;33m\u001b[0m\u001b[1;33m\u001b[0m\u001b[1;33m\u001b[0m\u001b[0m\n\u001b[0;32m      2\u001b[0m \u001b[1;33m\u001b[0m\u001b[0m\n\u001b[1;32m----> 3\u001b[1;33m \u001b[0maveraged_diabetic_attributes\u001b[0m \u001b[1;33m=\u001b[0m  \u001b[0maverage_data_per_col\u001b[0m\u001b[1;33m(\u001b[0m\u001b[0mdiabetes_np\u001b[0m\u001b[1;33m)\u001b[0m\u001b[1;33m\u001b[0m\u001b[1;33m\u001b[0m\u001b[0m\n\u001b[0m",
      "\u001b[1;32m<ipython-input-40-99d95090185a>\u001b[0m in \u001b[0;36maverage_data_per_col\u001b[1;34m(arr_2d)\u001b[0m\n\u001b[0;32m     17\u001b[0m \u001b[1;33m\u001b[0m\u001b[0m\n\u001b[0;32m     18\u001b[0m         \u001b[1;31m#averaged_column_data = np.mean(arr_2d[:, k])\u001b[0m\u001b[1;33m\u001b[0m\u001b[1;33m\u001b[0m\u001b[1;33m\u001b[0m\u001b[0m\n\u001b[1;32m---> 19\u001b[1;33m         \u001b[0maveraged_data\u001b[0m\u001b[1;33m.\u001b[0m\u001b[0mappend\u001b[0m\u001b[1;33m(\u001b[0m\u001b[0maveraged_column_data\u001b[0m\u001b[1;33m)\u001b[0m\u001b[1;33m\u001b[0m\u001b[1;33m\u001b[0m\u001b[0m\n\u001b[0m\u001b[0;32m     20\u001b[0m \u001b[1;33m\u001b[0m\u001b[0m\n\u001b[0;32m     21\u001b[0m     \u001b[1;31m# Return numpy array form of the averaged_data\u001b[0m\u001b[1;33m\u001b[0m\u001b[1;33m\u001b[0m\u001b[1;33m\u001b[0m\u001b[0m\n",
      "\u001b[1;31mAttributeError\u001b[0m: 'tuple' object has no attribute 'append'"
     ]
    }
   ],
   "source": [
    "# Run faulty function 1\n",
    "\n",
    "averaged_diabetic_attributes =  average_data_per_col(diabetes_np)"
   ]
  },
  {
   "cell_type": "code",
   "execution_count": 43,
   "id": "662c696e",
   "metadata": {},
   "outputs": [],
   "source": [
    "# YOUR FIXED FUNCTION HERE\n",
    "# Make sure you comment on your fixes\n",
    "\n",
    "def average_data_per_col_fixed(arr_2d):\n",
    "    # Create a array of 0's to put the averages in. Length equal to the number of columns.\n",
    "    averaged_data = np.zeros(len(arr_2d[0, :]))\n",
    "    # Loop through all the columns.\n",
    "    for k in range(0, len(arr_2d[0, :])):\n",
    "        # Initialize sum variable.\n",
    "        sum = 0\n",
    "        # Loop through all the rows per column.\n",
    "        for i in range(0, len(arr_2d[:, 0])):\n",
    "            # Take the cumulative sum.\n",
    "            sum += arr_2d[i][k]\n",
    "        # Calculate average and put the average into the 1D array.\n",
    "        averaged_data[k] = sum / len(arr_2d[:, 0])\n",
    "    return averaged_data"
   ]
  },
  {
   "cell_type": "code",
   "execution_count": 44,
   "id": "cb1aad89",
   "metadata": {},
   "outputs": [],
   "source": [
    "# Test your fixed function\n",
    "\n",
    "averaged_diabetic_attributes =  average_data_per_col_fixed(diabetes_np)"
   ]
  },
  {
   "cell_type": "code",
   "execution_count": 45,
   "id": "97927a5b",
   "metadata": {},
   "outputs": [
    {
     "data": {
      "text/plain": [
       "True"
      ]
     },
     "execution_count": 45,
     "metadata": {},
     "output_type": "execute_result"
    }
   ],
   "source": [
    "# Compare with correct results\n",
    "\n",
    "correct_result_func1 = np.load('E5_correct_output_1.npy')\n",
    "\n",
    "# Should return True if the result is correct\n",
    "np.sum(np.round(correct_result_func1, 3) == np.round(averaged_diabetic_attributes, 3)) == len(correct_result_func1) "
   ]
  },
  {
   "cell_type": "markdown",
   "id": "283bc04d",
   "metadata": {},
   "source": [
    "### Faulty function #2"
   ]
  },
  {
   "cell_type": "code",
   "execution_count": 46,
   "id": "7297d884",
   "metadata": {},
   "outputs": [],
   "source": [
    "def daily_stock_change_2_normalized_percentage(opening_price_arr, closing_price_arr):\n",
    "    \n",
    "    # NOTE FROM YOUR FRIEND WHO INVESTED IN TESLA\n",
    "    \"\"\"  I want to write a function which takes 2 1D numpy arrays of each corresponding to opening/closing prices of stock\n",
    "         and output 1D array of daily stock change in percentages. \n",
    "         \n",
    "         I want the percentages scale to be in a scale such that 1 = 100%, -0.5 = -50%, 1.5 = 150%  etc.\n",
    "         For example, day 1 opening: $10, day 1 closing: $15, change in scaled percecntage: 0.5.\n",
    "         \n",
    "         I am not really getting errors but the numbers don't look right... Can you help me?? :'( \n",
    "    \n",
    "    \"\"\"\n",
    "    \n",
    "    # placeholder for change percentage values\n",
    "    change_percentages = np.zeros(len(opening_price_arr), dtype = 'int')\n",
    "    \n",
    "    # Loop through each opening/closing price to compute the change percentage\n",
    "    for date_num in range(len(opening_price_arr)):\n",
    "        \n",
    "        change_percentages[date_num] = opening_price_arr[date_num] - closing_price_arr[date_num] / opening_price_arr[date_num]\n",
    "    \n",
    "    return change_percentages"
   ]
  },
  {
   "cell_type": "code",
   "execution_count": 47,
   "id": "8a6008e0",
   "metadata": {},
   "outputs": [],
   "source": [
    "# Load tsla.csv and convert to numpy array\n",
    "\n",
    "tesla = pd.read_csv('TSLA.csv') \n",
    "tesla_np = tesla.to_numpy()"
   ]
  },
  {
   "cell_type": "code",
   "execution_count": 48,
   "id": "3486e41e",
   "metadata": {},
   "outputs": [],
   "source": [
    "# Run faulty function 2\n",
    "\n",
    "change_percentages = daily_stock_change_2_normalized_percentage(tesla_np[:, 1], tesla_np[:, 4])"
   ]
  },
  {
   "cell_type": "code",
   "execution_count": 49,
   "id": "b0a52a2e",
   "metadata": {},
   "outputs": [],
   "source": [
    "# YOUR FIXED FUNCTION HERE\n",
    "# Make sure you comment on your fixes\n",
    "\n",
    "def daily_stock_change_2_normalized_percentage_fixed(opening_price_arr, closing_price_arr):\n",
    "    # Don't use dtype int because then it makes everything an int and we want decimals.\n",
    "    change_percentages = np.zeros(len(opening_price_arr))\n",
    "    # Use parentheses to enclose the closing - opening or else Python will divide first (PEMDAS) and we don't want that. \n",
    "    # Also, notice that we switched opening and closing, this is because we were getting the correct value but negative. \n",
    "    # We could also multiply all values by negative 1 as a fix for this.\n",
    "    for date_num in range(len(opening_price_arr)):\n",
    "        change_percentages[date_num] = (closing_price_arr[date_num] - opening_price_arr[date_num]) / opening_price_arr[date_num]\n",
    "    return change_percentages"
   ]
  },
  {
   "cell_type": "code",
   "execution_count": 50,
   "id": "b0a62383",
   "metadata": {},
   "outputs": [
    {
     "name": "stdout",
     "output_type": "stream",
     "text": [
      "[ 0.25736837 -0.07599848 -0.12160004 ... -0.02026381 -0.00578363\n",
      "  0.04580496]\n"
     ]
    }
   ],
   "source": [
    "# Test your fixed function\n",
    "\n",
    "change_percentages = daily_stock_change_2_normalized_percentage_fixed(tesla_np[:, 1], tesla_np[:, 4])\n",
    "print(change_percentages)"
   ]
  },
  {
   "cell_type": "code",
   "execution_count": 51,
   "id": "3abcd16f",
   "metadata": {},
   "outputs": [
    {
     "data": {
      "text/plain": [
       "True"
      ]
     },
     "execution_count": 51,
     "metadata": {},
     "output_type": "execute_result"
    }
   ],
   "source": [
    "# Compare with correct results\n",
    "\n",
    "correct_result_func2 = np.load('E5_correct_output_2.npy')\n",
    "\n",
    "# Should return True if the result is correct\n",
    "np.sum(np.round(correct_result_func2, 3) == np.round(change_percentages, 3)) == len(correct_result_func2) "
   ]
  },
  {
   "cell_type": "markdown",
   "id": "f9f376cc",
   "metadata": {},
   "source": [
    "### Faulty function #3"
   ]
  },
  {
   "cell_type": "code",
   "execution_count": 52,
   "id": "54f49798",
   "metadata": {},
   "outputs": [],
   "source": [
    "def subset_diabetes_by_age(diabetes_data):\n",
    "    \n",
    "    # NOTE FROM YOUR FRIEND WHO WORKS AT UW IHME\n",
    "    \"\"\" The function takes diabetes pandas data frame as an input and outputs a subplot of 3 x 1 with three histograms.    \n",
    "    \n",
    "        Specifically, I want to divide the diabetes data into three age groups - \n",
    "            1. 20 to 40\n",
    "            2. 40 to 60\n",
    "            3. 60 to 80\n",
    "            \n",
    "        and plot 3 histograms of glucose distribution (50 bins per histogram) in 3 x 1 python subplots.\n",
    "        \n",
    "        I seem to be getting error from very beginning even before I divide the dataset....\n",
    "        My coworkers at IHME prefer R rather than Python... so you are my only hope!  \n",
    "    \n",
    "    \"\"\"\n",
    "    \n",
    "    # Extract the age column of the diabetes_data \n",
    "    age_column = diabetes_data[:, 8] \n",
    "    \n",
    "    # Construct boolean mask for each age group \n",
    "    age_20_40_bool_mask = age_column > 20 + age_column < 40\n",
    "    age_40_60_bool_mask = age_column > 40 + age_column < 60\n",
    "    age_60_80_bool_mask = age_column > 60 + age_column < 80\n",
    "    \n",
    "    # Get glucose data for each age group via applying the boolean mask for each age group\n",
    "    age_20_40_glucose = diabetes_data[age_20_40_bool_mask, 2]\n",
    "    age_40_60_glucose = diabetes_data[age_40_60_bool_mask, 2]\n",
    "    age_60_80_glucose = diabetes_data[age_60_80_bool_mask, 2]\n",
    "    \n",
    "    # Plot the histogram for each age group in 3 x 1 subplot\n",
    "    fig = plt.figure(figsize=(15,7))\n",
    "    \n",
    "    plt.subplot(3,1,1)\n",
    "    \n",
    "    plt.hist(age_20_40_glucose, bins = 50)\n",
    "    plt.title('Age 20 to 40', fontsize = 15)\n",
    "    \n",
    "    plt.subplot(3,1,2)\n",
    "    \n",
    "    plt.hist(age_40_60_glucose, bins = 50)\n",
    "    plt.title('Age 40 to 60', fontsize = 15)\n",
    "    \n",
    "    plt.subplot(3,1,3)\n",
    "    \n",
    "    plt.hist(age_60_80_glucose, bins = 50)\n",
    "    plt.title('Age 60 to 80', fontsize = 15)\n",
    "    \n",
    "    plt.tight_layout()\n",
    "    \n",
    "    plt.show()"
   ]
  },
  {
   "cell_type": "code",
   "execution_count": 53,
   "id": "6356d6db",
   "metadata": {},
   "outputs": [],
   "source": [
    "# Load diabetes.csv as pandas dataframe\n",
    "\n",
    "diabetes = pd.read_csv('diabetes.csv')"
   ]
  },
  {
   "cell_type": "code",
   "execution_count": 78,
   "id": "bf9e640a",
   "metadata": {},
   "outputs": [
    {
     "ename": "TypeError",
     "evalue": "'(slice(None, None, None), 8)' is an invalid key",
     "output_type": "error",
     "traceback": [
      "\u001b[1;31m---------------------------------------------------------------------------\u001b[0m",
      "\u001b[1;31mTypeError\u001b[0m                                 Traceback (most recent call last)",
      "\u001b[1;32m<ipython-input-78-a4feead92bde>\u001b[0m in \u001b[0;36m<module>\u001b[1;34m\u001b[0m\n\u001b[0;32m      1\u001b[0m \u001b[1;31m# Run faulty function 3\u001b[0m\u001b[1;33m\u001b[0m\u001b[1;33m\u001b[0m\u001b[1;33m\u001b[0m\u001b[0m\n\u001b[0;32m      2\u001b[0m \u001b[1;33m\u001b[0m\u001b[0m\n\u001b[1;32m----> 3\u001b[1;33m \u001b[0msubset_diabetes_by_age\u001b[0m\u001b[1;33m(\u001b[0m\u001b[0mdiabetes_data\u001b[0m \u001b[1;33m=\u001b[0m \u001b[0mdiabetes\u001b[0m\u001b[1;33m)\u001b[0m\u001b[1;33m\u001b[0m\u001b[1;33m\u001b[0m\u001b[0m\n\u001b[0m",
      "\u001b[1;32m<ipython-input-52-0bc1737390cc>\u001b[0m in \u001b[0;36msubset_diabetes_by_age\u001b[1;34m(diabetes_data)\u001b[0m\n\u001b[0;32m     17\u001b[0m \u001b[1;33m\u001b[0m\u001b[0m\n\u001b[0;32m     18\u001b[0m     \u001b[1;31m# Extract the age column of the diabetes_data\u001b[0m\u001b[1;33m\u001b[0m\u001b[1;33m\u001b[0m\u001b[1;33m\u001b[0m\u001b[0m\n\u001b[1;32m---> 19\u001b[1;33m     \u001b[0mage_column\u001b[0m \u001b[1;33m=\u001b[0m \u001b[0mdiabetes_data\u001b[0m\u001b[1;33m[\u001b[0m\u001b[1;33m:\u001b[0m\u001b[1;33m,\u001b[0m \u001b[1;36m8\u001b[0m\u001b[1;33m]\u001b[0m\u001b[1;33m\u001b[0m\u001b[1;33m\u001b[0m\u001b[0m\n\u001b[0m\u001b[0;32m     20\u001b[0m \u001b[1;33m\u001b[0m\u001b[0m\n\u001b[0;32m     21\u001b[0m     \u001b[1;31m# Construct boolean mask for each age group\u001b[0m\u001b[1;33m\u001b[0m\u001b[1;33m\u001b[0m\u001b[1;33m\u001b[0m\u001b[0m\n",
      "\u001b[1;32m~\\anaconda3\\lib\\site-packages\\pandas\\core\\frame.py\u001b[0m in \u001b[0;36m__getitem__\u001b[1;34m(self, key)\u001b[0m\n\u001b[0;32m   3022\u001b[0m             \u001b[1;32mif\u001b[0m \u001b[0mself\u001b[0m\u001b[1;33m.\u001b[0m\u001b[0mcolumns\u001b[0m\u001b[1;33m.\u001b[0m\u001b[0mnlevels\u001b[0m \u001b[1;33m>\u001b[0m \u001b[1;36m1\u001b[0m\u001b[1;33m:\u001b[0m\u001b[1;33m\u001b[0m\u001b[1;33m\u001b[0m\u001b[0m\n\u001b[0;32m   3023\u001b[0m                 \u001b[1;32mreturn\u001b[0m \u001b[0mself\u001b[0m\u001b[1;33m.\u001b[0m\u001b[0m_getitem_multilevel\u001b[0m\u001b[1;33m(\u001b[0m\u001b[0mkey\u001b[0m\u001b[1;33m)\u001b[0m\u001b[1;33m\u001b[0m\u001b[1;33m\u001b[0m\u001b[0m\n\u001b[1;32m-> 3024\u001b[1;33m             \u001b[0mindexer\u001b[0m \u001b[1;33m=\u001b[0m \u001b[0mself\u001b[0m\u001b[1;33m.\u001b[0m\u001b[0mcolumns\u001b[0m\u001b[1;33m.\u001b[0m\u001b[0mget_loc\u001b[0m\u001b[1;33m(\u001b[0m\u001b[0mkey\u001b[0m\u001b[1;33m)\u001b[0m\u001b[1;33m\u001b[0m\u001b[1;33m\u001b[0m\u001b[0m\n\u001b[0m\u001b[0;32m   3025\u001b[0m             \u001b[1;32mif\u001b[0m \u001b[0mis_integer\u001b[0m\u001b[1;33m(\u001b[0m\u001b[0mindexer\u001b[0m\u001b[1;33m)\u001b[0m\u001b[1;33m:\u001b[0m\u001b[1;33m\u001b[0m\u001b[1;33m\u001b[0m\u001b[0m\n\u001b[0;32m   3026\u001b[0m                 \u001b[0mindexer\u001b[0m \u001b[1;33m=\u001b[0m \u001b[1;33m[\u001b[0m\u001b[0mindexer\u001b[0m\u001b[1;33m]\u001b[0m\u001b[1;33m\u001b[0m\u001b[1;33m\u001b[0m\u001b[0m\n",
      "\u001b[1;32m~\\anaconda3\\lib\\site-packages\\pandas\\core\\indexes\\base.py\u001b[0m in \u001b[0;36mget_loc\u001b[1;34m(self, key, method, tolerance)\u001b[0m\n\u001b[0;32m   3078\u001b[0m             \u001b[0mcasted_key\u001b[0m \u001b[1;33m=\u001b[0m \u001b[0mself\u001b[0m\u001b[1;33m.\u001b[0m\u001b[0m_maybe_cast_indexer\u001b[0m\u001b[1;33m(\u001b[0m\u001b[0mkey\u001b[0m\u001b[1;33m)\u001b[0m\u001b[1;33m\u001b[0m\u001b[1;33m\u001b[0m\u001b[0m\n\u001b[0;32m   3079\u001b[0m             \u001b[1;32mtry\u001b[0m\u001b[1;33m:\u001b[0m\u001b[1;33m\u001b[0m\u001b[1;33m\u001b[0m\u001b[0m\n\u001b[1;32m-> 3080\u001b[1;33m                 \u001b[1;32mreturn\u001b[0m \u001b[0mself\u001b[0m\u001b[1;33m.\u001b[0m\u001b[0m_engine\u001b[0m\u001b[1;33m.\u001b[0m\u001b[0mget_loc\u001b[0m\u001b[1;33m(\u001b[0m\u001b[0mcasted_key\u001b[0m\u001b[1;33m)\u001b[0m\u001b[1;33m\u001b[0m\u001b[1;33m\u001b[0m\u001b[0m\n\u001b[0m\u001b[0;32m   3081\u001b[0m             \u001b[1;32mexcept\u001b[0m \u001b[0mKeyError\u001b[0m \u001b[1;32mas\u001b[0m \u001b[0merr\u001b[0m\u001b[1;33m:\u001b[0m\u001b[1;33m\u001b[0m\u001b[1;33m\u001b[0m\u001b[0m\n\u001b[0;32m   3082\u001b[0m                 \u001b[1;32mraise\u001b[0m \u001b[0mKeyError\u001b[0m\u001b[1;33m(\u001b[0m\u001b[0mkey\u001b[0m\u001b[1;33m)\u001b[0m \u001b[1;32mfrom\u001b[0m \u001b[0merr\u001b[0m\u001b[1;33m\u001b[0m\u001b[1;33m\u001b[0m\u001b[0m\n",
      "\u001b[1;32mpandas\\_libs\\index.pyx\u001b[0m in \u001b[0;36mpandas._libs.index.IndexEngine.get_loc\u001b[1;34m()\u001b[0m\n",
      "\u001b[1;32mpandas\\_libs\\index.pyx\u001b[0m in \u001b[0;36mpandas._libs.index.IndexEngine.get_loc\u001b[1;34m()\u001b[0m\n",
      "\u001b[1;31mTypeError\u001b[0m: '(slice(None, None, None), 8)' is an invalid key"
     ]
    }
   ],
   "source": [
    "# Run faulty function 3\n",
    "\n",
    "subset_diabetes_by_age(diabetes_data = diabetes)"
   ]
  },
  {
   "cell_type": "code",
   "execution_count": 55,
   "id": "31505293",
   "metadata": {},
   "outputs": [],
   "source": [
    "# YOUR FIXED FUNCTION HERE\n",
    "# Make sure you comment on your fixes\n",
    "\n",
    "def subset_diabetes_by_age_fixed(diabetes_data):\n",
    "    # Changed panda data frame into a numpy array.\n",
    "    diabetes_data = diabetes_data.to_numpy()\n",
    "    # The column should be 7, it is true that it is the 8th column in the data set but recall that\n",
    "    # indices start at 0.\n",
    "    age_column = diabetes_data[:, 7] \n",
    "    # Use np.logical_and to compute 2 truth values. Both cases need to be true, hence we use and.\n",
    "    age_20_40_bool_mask = np.logical_and(age_column > 20, age_column < 40)\n",
    "    age_40_60_bool_mask = np.logical_and(age_column > 40, age_column < 60)\n",
    "    age_60_80_bool_mask = np.logical_and(age_column > 60, age_column < 80)\n",
    "    \n",
    "    # All other code is fine\n",
    "    age_20_40_glucose = diabetes_data[age_20_40_bool_mask, 2]\n",
    "    age_40_60_glucose = diabetes_data[age_40_60_bool_mask, 2]\n",
    "    age_60_80_glucose = diabetes_data[age_60_80_bool_mask, 2]\n",
    "    fig = plt.figure(figsize=(15,7))\n",
    "    plt.subplot(3,1,1)\n",
    "    plt.hist(age_20_40_glucose, bins = 50)\n",
    "    plt.title('Age 20 to 40', fontsize = 15)\n",
    "    plt.subplot(3,1,2)\n",
    "    plt.hist(age_40_60_glucose, bins = 50)\n",
    "    plt.title('Age 40 to 60', fontsize = 15)\n",
    "    plt.subplot(3,1,3)\n",
    "    plt.hist(age_60_80_glucose, bins = 50)\n",
    "    plt.title('Age 60 to 80', fontsize = 15)\n",
    "    plt.tight_layout()\n",
    "    plt.show()"
   ]
  },
  {
   "cell_type": "code",
   "execution_count": 56,
   "id": "8b0e259f",
   "metadata": {},
   "outputs": [
    {
     "data": {
      "image/png": "[encoded data removed]",
      "text/plain": [
       "<Figure size 1080x504 with 3 Axes>"
      ]
     },
     "metadata": {
      "needs_background": "light"
     },
     "output_type": "display_data"
    }
   ],
   "source": [
    "# Test your fixed function\n",
    "# Compare your plot with the correct plot provided in template folder\n",
    "\n",
    "subset_diabetes_by_age_fixed(diabetes_data = diabetes)"
   ]
  },
  {
   "cell_type": "code",
   "execution_count": null,
   "id": "3a16a258",
   "metadata": {},
   "outputs": [],
   "source": []
  }
 ],
 "metadata": {
  "kernelspec": {
   "display_name": "Python 3",
   "language": "python",
   "name": "python3"
  },
  "language_info": {
   "codemirror_mode": {
    "name": "ipython",
    "version": 3
   },
   "file_extension": ".py",
   "mimetype": "text/x-python",
   "name": "python",
   "nbconvert_exporter": "python",
   "pygments_lexer": "ipython3",
   "version": "3.8.8"
  }
 },
 "nbformat": 4,
 "nbformat_minor": 5
}
